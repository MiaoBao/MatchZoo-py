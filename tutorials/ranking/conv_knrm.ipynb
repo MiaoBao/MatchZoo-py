{
 "cells": [
  {
   "cell_type": "code",
   "execution_count": 1,
   "metadata": {
    "ExecuteTime": {
     "end_time": "2019-03-20T09:35:56.628130Z",
     "start_time": "2019-03-20T09:35:45.661384Z"
    }
   },
   "outputs": [
    {
     "name": "stdout",
     "output_type": "stream",
     "text": [
      "matchzoo version 1.1.1\n",
      "`ranking_task` initialized with metrics [normalized_discounted_cumulative_gain@3(0.0), normalized_discounted_cumulative_gain@5(0.0), mean_average_precision(0.0)]\n",
      "data loading ...\n",
      "/Users/yyang/.matchzoo/datasets/wiki_qa/WikiQACorpus\n",
      "/Users/yyang/.matchzoo/datasets/wiki_qa/WikiQACorpus\n",
      "/Users/yyang/.matchzoo/datasets/wiki_qa/WikiQACorpus\n",
      "data loaded as `train_pack_raw` `dev_pack_raw` `test_pack_raw`\n"
     ]
    }
   ],
   "source": [
    "%run init.ipynb"
   ]
  },
  {
   "cell_type": "code",
   "execution_count": 2,
   "metadata": {
    "ExecuteTime": {
     "end_time": "2019-03-20T09:35:56.633000Z",
     "start_time": "2019-03-20T09:35:56.630450Z"
    }
   },
   "outputs": [],
   "source": [
    "preprocessor = mz.models.ConvKNRM.get_default_preprocessor()"
   ]
  },
  {
   "cell_type": "code",
   "execution_count": 7,
   "metadata": {
    "ExecuteTime": {
     "end_time": "2019-03-20T09:36:06.249211Z",
     "start_time": "2019-03-20T09:35:56.634788Z"
    },
    "scrolled": true
   },
   "outputs": [
    {
     "name": "stderr",
     "output_type": "stream",
     "text": [
      "Processing text_left with chain_transform of Tokenize => Lowercase => PuncRemoval: 100%|██████████| 2118/2118 [00:00<00:00, 6064.79it/s]\n",
      "Processing text_right with chain_transform of Tokenize => Lowercase => PuncRemoval: 100%|██████████| 18841/18841 [00:08<00:00, 2107.10it/s]\n",
      "Processing text_right with append: 100%|██████████| 18841/18841 [00:00<00:00, 404643.65it/s]\n",
      "Building FrequencyFilter from a datapack.: 100%|██████████| 18841/18841 [00:00<00:00, 64572.36it/s]\n",
      "Processing text_right with transform: 100%|██████████| 18841/18841 [00:33<00:00, 558.60it/s]\n",
      "Processing text_left with extend: 100%|██████████| 2118/2118 [00:00<00:00, 416617.54it/s]\n",
      "Processing text_right with extend: 100%|██████████| 18841/18841 [00:00<00:00, 621098.78it/s]\n",
      "Building Vocabulary from a datapack.: 100%|██████████| 418412/418412 [00:00<00:00, 2781638.93it/s]\n",
      "Processing text_left with chain_transform of Tokenize => Lowercase => PuncRemoval: 100%|██████████| 2118/2118 [00:00<00:00, 9381.11it/s]\n",
      "Processing text_right with chain_transform of Tokenize => Lowercase => PuncRemoval: 100%|██████████| 18841/18841 [00:04<00:00, 4368.44it/s]\n",
      "Processing text_right with transform: 100%|██████████| 18841/18841 [00:00<00:00, 55455.47it/s]\n",
      "Processing text_left with transform: 100%|██████████| 2118/2118 [00:00<00:00, 81832.92it/s]\n",
      "Processing text_right with transform: 100%|██████████| 18841/18841 [00:00<00:00, 59190.72it/s]\n",
      "Processing length_left with len: 100%|██████████| 2118/2118 [00:00<00:00, 193494.72it/s]\n",
      "Processing length_right with len: 100%|██████████| 18841/18841 [00:00<00:00, 313268.83it/s]\n",
      "Processing text_left with chain_transform of Tokenize => Lowercase => PuncRemoval: 100%|██████████| 122/122 [00:00<00:00, 3402.05it/s]\n",
      "Processing text_right with chain_transform of Tokenize => Lowercase => PuncRemoval: 100%|██████████| 1115/1115 [00:00<00:00, 2477.52it/s]\n",
      "Processing text_right with transform: 100%|██████████| 1115/1115 [00:00<00:00, 34338.14it/s]\n",
      "Processing text_left with transform: 100%|██████████| 122/122 [00:00<00:00, 25673.83it/s]\n",
      "Processing text_right with transform: 100%|██████████| 1115/1115 [00:00<00:00, 22280.37it/s]\n",
      "Processing length_left with len: 100%|██████████| 122/122 [00:00<00:00, 140346.98it/s]\n",
      "Processing length_right with len: 100%|██████████| 1115/1115 [00:00<00:00, 426896.30it/s]\n",
      "Processing text_left with chain_transform of Tokenize => Lowercase => PuncRemoval: 100%|██████████| 237/237 [00:00<00:00, 6450.77it/s]\n",
      "Processing text_right with chain_transform of Tokenize => Lowercase => PuncRemoval: 100%|██████████| 2300/2300 [00:00<00:00, 2541.82it/s]\n",
      "Processing text_right with transform: 100%|██████████| 2300/2300 [00:00<00:00, 55039.91it/s]\n",
      "Processing text_left with transform: 100%|██████████| 237/237 [00:00<00:00, 76207.46it/s]\n",
      "Processing text_right with transform: 100%|██████████| 2300/2300 [00:00<00:00, 58883.59it/s]\n",
      "Processing length_left with len: 100%|██████████| 237/237 [00:00<00:00, 160046.70it/s]\n",
      "Processing length_right with len: 100%|██████████| 2300/2300 [00:00<00:00, 218671.21it/s]\n"
     ]
    }
   ],
   "source": [
    "train_pack_processed = preprocessor.fit_transform(train_pack_raw)\n",
    "dev_pack_processed = preprocessor.transform(dev_pack_raw)\n",
    "test_pack_processed = preprocessor.transform(test_pack_raw)"
   ]
  },
  {
   "cell_type": "code",
   "execution_count": 8,
   "metadata": {
    "ExecuteTime": {
     "end_time": "2019-03-20T09:36:06.262937Z",
     "start_time": "2019-03-20T09:36:06.253350Z"
    }
   },
   "outputs": [
    {
     "data": {
      "text/plain": [
       "{'filter_unit': <matchzoo.preprocessors.units.frequency_filter.FrequencyFilter at 0x10cc72790>,\n",
       " 'vocab_unit': <matchzoo.preprocessors.units.vocabulary.Vocabulary at 0x10b99a750>,\n",
       " 'vocab_size': 30059,\n",
       " 'embedding_input_dim': 30059}"
      ]
     },
     "execution_count": 8,
     "metadata": {},
     "output_type": "execute_result"
    }
   ],
   "source": [
    "preprocessor.context"
   ]
  },
  {
   "cell_type": "code",
   "execution_count": 9,
   "metadata": {},
   "outputs": [],
   "source": [
    "glove_embedding = mz.datasets.embeddings.load_glove_embedding(dimension=300)\n",
    "term_index = preprocessor.context['vocab_unit'].state['term_index']\n",
    "embedding_matrix = glove_embedding.build_matrix(term_index)\n",
    "l2_norm = np.sqrt((embedding_matrix * embedding_matrix).sum(axis=1))\n",
    "embedding_matrix = embedding_matrix / l2_norm[:, np.newaxis]"
   ]
  },
  {
   "cell_type": "code",
   "execution_count": 10,
   "metadata": {},
   "outputs": [
    {
     "data": {
      "text/plain": [
       "<matchzoo.embedding.embedding.Embedding at 0x4e4e6c810>"
      ]
     },
     "execution_count": 10,
     "metadata": {},
     "output_type": "execute_result"
    }
   ],
   "source": [
    "glove_embedding"
   ]
  },
  {
   "cell_type": "code",
   "execution_count": 6,
   "metadata": {},
   "outputs": [],
   "source": [
    "#batchsize can be modified here\n",
    "trainset = mz.dataloader.Dataset(\n",
    "    data_pack=train_pack_processed,\n",
    "    mode='pair',\n",
    "    num_dup=5,\n",
    "    num_neg=1\n",
    ")\n",
    "testset = mz.dataloader.Dataset(\n",
    "    data_pack=test_pack_processed\n",
    ")"
   ]
  },
  {
   "cell_type": "code",
   "execution_count": 7,
   "metadata": {},
   "outputs": [],
   "source": [
    "padding_callback = mz.models.ConvKNRM.get_default_padding_callback()\n",
    "\n",
    "trainloader = mz.dataloader.DataLoader(\n",
    "    dataset=trainset,\n",
    "    #batch_size=20,\n",
    "    stage='train',\n",
    "    #resample=True,\n",
    "    #sort=False,\n",
    "    callback=padding_callback\n",
    ")\n",
    "testloader = mz.dataloader.DataLoader(\n",
    "    dataset=testset,\n",
    "    #batch_size=20,\n",
    "    stage='dev',\n",
    "    callback=padding_callback\n",
    ")"
   ]
  },
  {
   "cell_type": "code",
   "execution_count": 8,
   "metadata": {
    "ExecuteTime": {
     "end_time": "2019-03-20T09:36:06.413530Z",
     "start_time": "2019-03-20T09:36:06.267256Z"
    }
   },
   "outputs": [
    {
     "name": "stdout",
     "output_type": "stream",
     "text": [
      "ConvKNRM(\n",
      "  (embedding): Embedding(30059, 300, padding_idx=0)\n",
      "  (q_convs): ModuleList(\n",
      "    (0): Sequential(\n",
      "      (0): ConstantPad1d(padding=(0, 0), value=0)\n",
      "      (1): Conv1d(300, 128, kernel_size=(1,), stride=(1,))\n",
      "      (2): Tanh()\n",
      "    )\n",
      "    (1): Sequential(\n",
      "      (0): ConstantPad1d(padding=(0, 1), value=0)\n",
      "      (1): Conv1d(300, 128, kernel_size=(2,), stride=(1,))\n",
      "      (2): Tanh()\n",
      "    )\n",
      "    (2): Sequential(\n",
      "      (0): ConstantPad1d(padding=(0, 2), value=0)\n",
      "      (1): Conv1d(300, 128, kernel_size=(3,), stride=(1,))\n",
      "      (2): Tanh()\n",
      "    )\n",
      "  )\n",
      "  (d_convs): ModuleList(\n",
      "    (0): Sequential(\n",
      "      (0): ConstantPad1d(padding=(0, 0), value=0)\n",
      "      (1): Conv1d(300, 128, kernel_size=(1,), stride=(1,))\n",
      "      (2): Tanh()\n",
      "    )\n",
      "    (1): Sequential(\n",
      "      (0): ConstantPad1d(padding=(0, 1), value=0)\n",
      "      (1): Conv1d(300, 128, kernel_size=(2,), stride=(1,))\n",
      "      (2): Tanh()\n",
      "    )\n",
      "    (2): Sequential(\n",
      "      (0): ConstantPad1d(padding=(0, 2), value=0)\n",
      "      (1): Conv1d(300, 128, kernel_size=(3,), stride=(1,))\n",
      "      (2): Tanh()\n",
      "    )\n",
      "  )\n",
      "  (kernels): ModuleList(\n",
      "    (0): GaussianKernel()\n",
      "    (1): GaussianKernel()\n",
      "    (2): GaussianKernel()\n",
      "    (3): GaussianKernel()\n",
      "    (4): GaussianKernel()\n",
      "    (5): GaussianKernel()\n",
      "    (6): GaussianKernel()\n",
      "    (7): GaussianKernel()\n",
      "    (8): GaussianKernel()\n",
      "    (9): GaussianKernel()\n",
      "    (10): GaussianKernel()\n",
      "  )\n",
      "  (out): Linear(in_features=99, out_features=1, bias=True)\n",
      ")\n",
      "Trainable params:  9248584\n"
     ]
    }
   ],
   "source": [
    "model = mz.models.ConvKNRM()\n",
    "\n",
    "model.params['task'] = ranking_task\n",
    "model.params['embedding'] = embedding_matrix\n",
    "model.params['filters'] = 128 \n",
    "model.params['conv_activation_func'] = 'tanh' \n",
    "model.params['max_ngram'] = 3\n",
    "model.params['use_crossmatch'] = True \n",
    "model.params['kernel_num'] = 11\n",
    "model.params['sigma'] = 0.1\n",
    "model.params['exact_sigma'] = 0.001\n",
    "\n",
    "model.build()\n",
    "\n",
    "print(model)\n",
    "print('Trainable params: ', sum(p.numel() for p in model.parameters() if p.requires_grad))"
   ]
  },
  {
   "cell_type": "code",
   "execution_count": 9,
   "metadata": {
    "ExecuteTime": {
     "end_time": "2019-03-20T09:36:06.422264Z",
     "start_time": "2019-03-20T09:36:06.415605Z"
    }
   },
   "outputs": [],
   "source": [
    "optimizer = torch.optim.Adadelta(model.parameters())\n",
    "scheduler = torch.optim.lr_scheduler.StepLR(optimizer, step_size=3)\n",
    "\n",
    "trainer = mz.trainers.Trainer(\n",
    "    model=model,\n",
    "    optimizer=optimizer,\n",
    "    trainloader=trainloader,\n",
    "    validloader=testloader,\n",
    "    validate_interval=None,\n",
    "    epochs=10,\n",
    "    scheduler=scheduler,\n",
    "    clip_norm=10\n",
    ")"
   ]
  },
  {
   "cell_type": "code",
   "execution_count": 10,
   "metadata": {},
   "outputs": [
    {
     "data": {
      "application/vnd.jupyter.widget-view+json": {
       "model_id": "b2b29de76f2f47e9b8c3417335c1d3f0",
       "version_major": 2,
       "version_minor": 0
      },
      "text/plain": [
       "HBox(children=(IntProgress(value=0, max=160), HTML(value='')))"
      ]
     },
     "metadata": {},
     "output_type": "display_data"
    },
    {
     "name": "stderr",
     "output_type": "stream",
     "text": [
      "/Users/yyang/opt/anaconda3/envs/conda_env/lib/python3.7/site-packages/matchzoo_py-1.1.1-py3.7.egg/matchzoo/data_pack/data_pack.py:151: VisibleDeprecationWarning: Creating an ndarray from ragged nested sequences (which is a list-or-tuple of lists-or-tuples-or ndarrays with different lengths or shapes) is deprecated. If you meant to do this, you must specify 'dtype=object' when creating the ndarray\n",
      "  x[key] = np.array(val)\n"
     ]
    },
    {
     "name": "stdout",
     "output_type": "stream",
     "text": [
      "[Iter-160 Loss-0.452]:\n",
      "  Validation: normalized_discounted_cumulative_gain@3(0.0): 0.4881 - normalized_discounted_cumulative_gain@5(0.0): 0.5628 - mean_average_precision(0.0): 0.5064\n",
      "\n"
     ]
    },
    {
     "data": {
      "application/vnd.jupyter.widget-view+json": {
       "model_id": "4e85c2d708d546a4adf882e3af44f659",
       "version_major": 2,
       "version_minor": 0
      },
      "text/plain": [
       "HBox(children=(IntProgress(value=0, max=160), HTML(value='')))"
      ]
     },
     "metadata": {},
     "output_type": "display_data"
    },
    {
     "name": "stdout",
     "output_type": "stream",
     "text": [
      "[Iter-320 Loss-0.077]:\n",
      "  Validation: normalized_discounted_cumulative_gain@3(0.0): 0.5046 - normalized_discounted_cumulative_gain@5(0.0): 0.5905 - mean_average_precision(0.0): 0.5366\n",
      "\n"
     ]
    },
    {
     "data": {
      "application/vnd.jupyter.widget-view+json": {
       "model_id": "c47de177c9b144dfa80ad165a9c17b82",
       "version_major": 2,
       "version_minor": 0
      },
      "text/plain": [
       "HBox(children=(IntProgress(value=0, max=160), HTML(value='')))"
      ]
     },
     "metadata": {},
     "output_type": "display_data"
    },
    {
     "name": "stdout",
     "output_type": "stream",
     "text": [
      "[Iter-480 Loss-0.027]:\n",
      "  Validation: normalized_discounted_cumulative_gain@3(0.0): 0.5219 - normalized_discounted_cumulative_gain@5(0.0): 0.596 - mean_average_precision(0.0): 0.549\n",
      "\n"
     ]
    },
    {
     "data": {
      "application/vnd.jupyter.widget-view+json": {
       "model_id": "6847047b877f4474ba758324333a5684",
       "version_major": 2,
       "version_minor": 0
      },
      "text/plain": [
       "HBox(children=(IntProgress(value=0, max=160), HTML(value='')))"
      ]
     },
     "metadata": {},
     "output_type": "display_data"
    },
    {
     "name": "stdout",
     "output_type": "stream",
     "text": [
      "[Iter-640 Loss-0.008]:\n",
      "  Validation: normalized_discounted_cumulative_gain@3(0.0): 0.5087 - normalized_discounted_cumulative_gain@5(0.0): 0.5874 - mean_average_precision(0.0): 0.5336\n",
      "\n"
     ]
    },
    {
     "data": {
      "application/vnd.jupyter.widget-view+json": {
       "model_id": "7eaefbeec7584758aabf5a27bba474f8",
       "version_major": 2,
       "version_minor": 0
      },
      "text/plain": [
       "HBox(children=(IntProgress(value=0, max=160), HTML(value='')))"
      ]
     },
     "metadata": {},
     "output_type": "display_data"
    },
    {
     "name": "stdout",
     "output_type": "stream",
     "text": [
      "[Iter-800 Loss-0.003]:\n",
      "  Validation: normalized_discounted_cumulative_gain@3(0.0): 0.47 - normalized_discounted_cumulative_gain@5(0.0): 0.558 - mean_average_precision(0.0): 0.5045\n",
      "\n"
     ]
    },
    {
     "data": {
      "application/vnd.jupyter.widget-view+json": {
       "model_id": "58a958391e9642f7a0df7ffdc9935bb0",
       "version_major": 2,
       "version_minor": 0
      },
      "text/plain": [
       "HBox(children=(IntProgress(value=0, max=160), HTML(value='')))"
      ]
     },
     "metadata": {},
     "output_type": "display_data"
    },
    {
     "name": "stdout",
     "output_type": "stream",
     "text": [
      "[Iter-960 Loss-0.001]:\n",
      "  Validation: normalized_discounted_cumulative_gain@3(0.0): 0.5179 - normalized_discounted_cumulative_gain@5(0.0): 0.5785 - mean_average_precision(0.0): 0.5227\n",
      "\n"
     ]
    },
    {
     "data": {
      "application/vnd.jupyter.widget-view+json": {
       "model_id": "23e42dc95efe4772a792a9e6bd98cb16",
       "version_major": 2,
       "version_minor": 0
      },
      "text/plain": [
       "HBox(children=(IntProgress(value=0, max=160), HTML(value='')))"
      ]
     },
     "metadata": {},
     "output_type": "display_data"
    },
    {
     "name": "stdout",
     "output_type": "stream",
     "text": [
      "[Iter-1120 Loss-0.001]:\n",
      "  Validation: normalized_discounted_cumulative_gain@3(0.0): 0.5035 - normalized_discounted_cumulative_gain@5(0.0): 0.5781 - mean_average_precision(0.0): 0.5251\n",
      "\n"
     ]
    },
    {
     "data": {
      "application/vnd.jupyter.widget-view+json": {
       "model_id": "4ae1c38c9ee447d7915faa23a70ee199",
       "version_major": 2,
       "version_minor": 0
      },
      "text/plain": [
       "HBox(children=(IntProgress(value=0, max=160), HTML(value='')))"
      ]
     },
     "metadata": {},
     "output_type": "display_data"
    },
    {
     "name": "stdout",
     "output_type": "stream",
     "text": [
      "[Iter-1280 Loss-0.000]:\n",
      "  Validation: normalized_discounted_cumulative_gain@3(0.0): 0.5097 - normalized_discounted_cumulative_gain@5(0.0): 0.5811 - mean_average_precision(0.0): 0.5327\n",
      "\n"
     ]
    },
    {
     "data": {
      "application/vnd.jupyter.widget-view+json": {
       "model_id": "0d464430021f411394a8b19c4a6d7bd7",
       "version_major": 2,
       "version_minor": 0
      },
      "text/plain": [
       "HBox(children=(IntProgress(value=0, max=160), HTML(value='')))"
      ]
     },
     "metadata": {},
     "output_type": "display_data"
    },
    {
     "name": "stdout",
     "output_type": "stream",
     "text": [
      "[Iter-1440 Loss-0.001]:\n",
      "  Validation: normalized_discounted_cumulative_gain@3(0.0): 0.5015 - normalized_discounted_cumulative_gain@5(0.0): 0.5812 - mean_average_precision(0.0): 0.5285\n",
      "\n"
     ]
    },
    {
     "data": {
      "application/vnd.jupyter.widget-view+json": {
       "model_id": "d5cf7639b69344ac8a6440b70de793b5",
       "version_major": 2,
       "version_minor": 0
      },
      "text/plain": [
       "HBox(children=(IntProgress(value=0, max=160), HTML(value='')))"
      ]
     },
     "metadata": {},
     "output_type": "display_data"
    },
    {
     "name": "stdout",
     "output_type": "stream",
     "text": [
      "[Iter-1600 Loss-0.000]:\n",
      "  Validation: normalized_discounted_cumulative_gain@3(0.0): 0.4917 - normalized_discounted_cumulative_gain@5(0.0): 0.5668 - mean_average_precision(0.0): 0.5096\n",
      "\n",
      "Cost time: 969.8109769821167s\n"
     ]
    }
   ],
   "source": [
    "#rankhingeloss\n",
    "trainer.run()"
   ]
  },
  {
   "cell_type": "code",
   "execution_count": 14,
   "metadata": {
    "ExecuteTime": {
     "end_time": "2019-03-20T09:37:59.341616Z",
     "start_time": "2019-03-20T09:36:06.425086Z"
    }
   },
   "outputs": [
    {
     "data": {
      "application/vnd.jupyter.widget-view+json": {
       "model_id": "504167810a704281ba3e448cbdb4ce09",
       "version_major": 2,
       "version_minor": 0
      },
      "text/plain": [
       "HBox(children=(IntProgress(value=0, max=160), HTML(value='')))"
      ]
     },
     "metadata": {},
     "output_type": "display_data"
    },
    {
     "name": "stderr",
     "output_type": "stream",
     "text": [
      "/Users/yyang/opt/anaconda3/envs/conda_env/lib/python3.7/site-packages/matchzoo_py-1.1.1-py3.7.egg/matchzoo/data_pack/data_pack.py:151: VisibleDeprecationWarning: Creating an ndarray from ragged nested sequences (which is a list-or-tuple of lists-or-tuples-or ndarrays with different lengths or shapes) is deprecated. If you meant to do this, you must specify 'dtype=object' when creating the ndarray\n",
      "  x[key] = np.array(val)\n"
     ]
    },
    {
     "name": "stdout",
     "output_type": "stream",
     "text": [
      "[Iter-160 Loss-0.344]:\n",
      "  Validation: normalized_discounted_cumulative_gain@3(0.0): 0.5663 - normalized_discounted_cumulative_gain@5(0.0): 0.6253 - mean_average_precision(0.0): 0.5716\n",
      "\n"
     ]
    },
    {
     "data": {
      "application/vnd.jupyter.widget-view+json": {
       "model_id": "6f9a775862eb43618488f5b07dc75c08",
       "version_major": 2,
       "version_minor": 0
      },
      "text/plain": [
       "HBox(children=(IntProgress(value=0, max=160), HTML(value='')))"
      ]
     },
     "metadata": {},
     "output_type": "display_data"
    },
    {
     "name": "stdout",
     "output_type": "stream",
     "text": [
      "[Iter-320 Loss-0.038]:\n",
      "  Validation: normalized_discounted_cumulative_gain@3(0.0): 0.4864 - normalized_discounted_cumulative_gain@5(0.0): 0.5669 - mean_average_precision(0.0): 0.5156\n",
      "\n"
     ]
    },
    {
     "data": {
      "application/vnd.jupyter.widget-view+json": {
       "model_id": "2b9567ae8d784bb2b087e1b133b6cb0c",
       "version_major": 2,
       "version_minor": 0
      },
      "text/plain": [
       "HBox(children=(IntProgress(value=0, max=160), HTML(value='')))"
      ]
     },
     "metadata": {},
     "output_type": "display_data"
    },
    {
     "name": "stdout",
     "output_type": "stream",
     "text": [
      "[Iter-480 Loss-0.006]:\n",
      "  Validation: normalized_discounted_cumulative_gain@3(0.0): 0.5672 - normalized_discounted_cumulative_gain@5(0.0): 0.6131 - mean_average_precision(0.0): 0.5705\n",
      "\n"
     ]
    },
    {
     "data": {
      "application/vnd.jupyter.widget-view+json": {
       "model_id": "8a0143cd21c146d298953c2e6686a846",
       "version_major": 2,
       "version_minor": 0
      },
      "text/plain": [
       "HBox(children=(IntProgress(value=0, max=160), HTML(value='')))"
      ]
     },
     "metadata": {},
     "output_type": "display_data"
    },
    {
     "name": "stdout",
     "output_type": "stream",
     "text": [
      "[Iter-640 Loss-0.004]:\n",
      "  Validation: normalized_discounted_cumulative_gain@3(0.0): 0.5494 - normalized_discounted_cumulative_gain@5(0.0): 0.6086 - mean_average_precision(0.0): 0.5654\n",
      "\n"
     ]
    },
    {
     "data": {
      "application/vnd.jupyter.widget-view+json": {
       "model_id": "c430bf5a7eef4d8ca4c1e3df69c6d944",
       "version_major": 2,
       "version_minor": 0
      },
      "text/plain": [
       "HBox(children=(IntProgress(value=0, max=160), HTML(value='')))"
      ]
     },
     "metadata": {},
     "output_type": "display_data"
    },
    {
     "name": "stdout",
     "output_type": "stream",
     "text": [
      "[Iter-800 Loss-0.002]:\n",
      "  Validation: normalized_discounted_cumulative_gain@3(0.0): 0.5514 - normalized_discounted_cumulative_gain@5(0.0): 0.6045 - mean_average_precision(0.0): 0.5515\n",
      "\n"
     ]
    },
    {
     "data": {
      "application/vnd.jupyter.widget-view+json": {
       "model_id": "c06742c10fe944d7a6c0fe445a9a0c4f",
       "version_major": 2,
       "version_minor": 0
      },
      "text/plain": [
       "HBox(children=(IntProgress(value=0, max=160), HTML(value='')))"
      ]
     },
     "metadata": {},
     "output_type": "display_data"
    },
    {
     "name": "stdout",
     "output_type": "stream",
     "text": [
      "[Iter-960 Loss-0.001]:\n",
      "  Validation: normalized_discounted_cumulative_gain@3(0.0): 0.5129 - normalized_discounted_cumulative_gain@5(0.0): 0.5907 - mean_average_precision(0.0): 0.5395\n",
      "\n"
     ]
    },
    {
     "data": {
      "application/vnd.jupyter.widget-view+json": {
       "model_id": "9a9dc663a7b84537a5c157b4e16f9cae",
       "version_major": 2,
       "version_minor": 0
      },
      "text/plain": [
       "HBox(children=(IntProgress(value=0, max=160), HTML(value='')))"
      ]
     },
     "metadata": {},
     "output_type": "display_data"
    },
    {
     "name": "stdout",
     "output_type": "stream",
     "text": [
      "[Iter-1120 Loss-0.001]:\n",
      "  Validation: normalized_discounted_cumulative_gain@3(0.0): 0.5476 - normalized_discounted_cumulative_gain@5(0.0): 0.6134 - mean_average_precision(0.0): 0.5683\n",
      "\n"
     ]
    },
    {
     "data": {
      "application/vnd.jupyter.widget-view+json": {
       "model_id": "1c5b667996994996bbe9fc295d529b96",
       "version_major": 2,
       "version_minor": 0
      },
      "text/plain": [
       "HBox(children=(IntProgress(value=0, max=160), HTML(value='')))"
      ]
     },
     "metadata": {},
     "output_type": "display_data"
    },
    {
     "name": "stdout",
     "output_type": "stream",
     "text": [
      "[Iter-1280 Loss-0.000]:\n",
      "  Validation: normalized_discounted_cumulative_gain@3(0.0): 0.5377 - normalized_discounted_cumulative_gain@5(0.0): 0.6013 - mean_average_precision(0.0): 0.5523\n",
      "\n"
     ]
    },
    {
     "data": {
      "application/vnd.jupyter.widget-view+json": {
       "model_id": "9a3599c3536c4f2f9ede35386d35ed2f",
       "version_major": 2,
       "version_minor": 0
      },
      "text/plain": [
       "HBox(children=(IntProgress(value=0, max=160), HTML(value='')))"
      ]
     },
     "metadata": {},
     "output_type": "display_data"
    },
    {
     "name": "stdout",
     "output_type": "stream",
     "text": [
      "[Iter-1440 Loss-0.001]:\n",
      "  Validation: normalized_discounted_cumulative_gain@3(0.0): 0.5544 - normalized_discounted_cumulative_gain@5(0.0): 0.6102 - mean_average_precision(0.0): 0.5721\n",
      "\n"
     ]
    },
    {
     "data": {
      "application/vnd.jupyter.widget-view+json": {
       "model_id": "8da99c7ff7cc454086c22a3dbdefb373",
       "version_major": 2,
       "version_minor": 0
      },
      "text/plain": [
       "HBox(children=(IntProgress(value=0, max=160), HTML(value='')))"
      ]
     },
     "metadata": {},
     "output_type": "display_data"
    },
    {
     "name": "stdout",
     "output_type": "stream",
     "text": [
      "[Iter-1600 Loss-0.001]:\n",
      "  Validation: normalized_discounted_cumulative_gain@3(0.0): 0.5203 - normalized_discounted_cumulative_gain@5(0.0): 0.5862 - mean_average_precision(0.0): 0.54\n",
      "\n",
      "Cost time: 990.1388800144196s\n"
     ]
    }
   ],
   "source": [
    "#rankcrossentropyloss\n",
    "trainer.run()"
   ]
  },
  {
   "cell_type": "code",
   "execution_count": 16,
   "metadata": {},
   "outputs": [
    {
     "name": "stdout",
     "output_type": "stream",
     "text": [
      "-0.9\n",
      "-0.7\n",
      "-0.5\n",
      "-0.30000000000000004\n",
      "-0.09999999999999998\n",
      "0.10000000000000009\n",
      "0.30000000000000004\n",
      "0.5\n",
      "0.7\n",
      "0.8999999999999999\n",
      "1.1\n"
     ]
    }
   ],
   "source": [
    "for i in range(11):\n",
    "    print((1+2. * i)/(11 - 1)-1)"
   ]
  },
  {
   "cell_type": "code",
   "execution_count": null,
   "metadata": {},
   "outputs": [],
   "source": []
  }
 ],
 "metadata": {
  "hide_input": false,
  "kernelspec": {
   "display_name": "Python 3",
   "language": "python",
   "name": "python3"
  },
  "language_info": {
   "codemirror_mode": {
    "name": "ipython",
    "version": 3
   },
   "file_extension": ".py",
   "mimetype": "text/x-python",
   "name": "python",
   "nbconvert_exporter": "python",
   "pygments_lexer": "ipython3",
   "version": "3.7.8"
  },
  "toc": {
   "nav_menu": {},
   "number_sections": true,
   "sideBar": true,
   "skip_h1_title": false,
   "toc_cell": false,
   "toc_position": {},
   "toc_section_display": "block",
   "toc_window_display": false
  },
  "varInspector": {
   "cols": {
    "lenName": 16,
    "lenType": 16,
    "lenVar": 40
   },
   "kernels_config": {
    "python": {
     "delete_cmd_postfix": "",
     "delete_cmd_prefix": "del ",
     "library": "var_list.py",
     "varRefreshCmd": "print(var_dic_list())"
    },
    "r": {
     "delete_cmd_postfix": ") ",
     "delete_cmd_prefix": "rm(",
     "library": "var_list.r",
     "varRefreshCmd": "cat(var_dic_list()) "
    }
   },
   "types_to_exclude": [
    "module",
    "function",
    "builtin_function_or_method",
    "instance",
    "_Feature"
   ],
   "window_display": false
  }
 },
 "nbformat": 4,
 "nbformat_minor": 4
}
